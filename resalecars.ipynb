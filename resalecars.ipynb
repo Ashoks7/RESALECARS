{
  "nbformat": 4,
  "nbformat_minor": 0,
  "metadata": {
    "colab": {
      "provenance": [],
      "authorship_tag": "ABX9TyOG4+tzrd/DAYk7+dDmIsHR",
      "include_colab_link": true
    },
    "kernelspec": {
      "name": "python3",
      "display_name": "Python 3"
    },
    "language_info": {
      "name": "python"
    }
  },
  "cells": [
    {
      "cell_type": "markdown",
      "metadata": {
        "id": "view-in-github",
        "colab_type": "text"
      },
      "source": [
        "<a href=\"https://colab.research.google.com/github/Ashoks7/RESALECARS/blob/main/resalecars.ipynb\" target=\"_parent\"><img src=\"https://colab.research.google.com/assets/colab-badge.svg\" alt=\"Open In Colab\"/></a>"
      ]
    },
    {
      "cell_type": "markdown",
      "source": [
        "**RESALE CAR DATA**"
      ],
      "metadata": {
        "id": "PyW2---NKAKW"
      }
    },
    {
      "cell_type": "code",
      "execution_count": 1,
      "metadata": {
        "id": "BZSNZtyR2dr4"
      },
      "outputs": [],
      "source": [
        "import pandas as pd\n"
      ]
    },
    {
      "cell_type": "code",
      "source": [
        "df=pd.read_excel(\"/content/car2nd.xlsx\")\n",
        "df"
      ],
      "metadata": {
        "colab": {
          "base_uri": "https://localhost:8080/",
          "height": 658
        },
        "id": "HbKhZLC92spY",
        "outputId": "9637299a-fe79-4cd3-fdaf-289de5204740"
      },
      "execution_count": 3,
      "outputs": [
        {
          "output_type": "execute_result",
          "data": {
            "text/plain": [
              "      Unnamed: 0 car_company car_name varient    vaient1  varient2 govt_std  \\\n",
              "0              0        Jeep  Compass       2  Longitude    Option     BSIV   \n",
              "1              1     Renault   Duster     RXZ      Turbo       CVT      NaN   \n",
              "2              2      Toyota    Camry     2.5          G       NaN      NaN   \n",
              "3              3       Honda     Jazz      VX        CVT       NaN      NaN   \n",
              "4              4  Volkswagen     Polo     1.2        MPI  Highline      NaN   \n",
              "...          ...         ...      ...     ...        ...       ...      ...   \n",
              "5507        5507         BMW       X1  sDrive        20d     xLine      NaN   \n",
              "5508        5508         BMW        M  Series         M4     Coupe      NaN   \n",
              "5509        5509      Jaguar       XF     2.2      Litre    Luxury      NaN   \n",
              "5510        5510         BMW        7  Series      730Ld       NaN      NaN   \n",
              "5511        5511         BMW        5  Series       520d         M    Sport   \n",
              "\n",
              "     govt_std2 car_prices_in_rupee  kms_driven fuel_type transmission  \\\n",
              "0          NaN          10.03 Lakh  86,226 kms    Diesel       Manual   \n",
              "1          NaN          12.83 Lakh  13,248 kms    Petrol    Automatic   \n",
              "2          NaN          16.40 Lakh  60,343 kms    Petrol    Automatic   \n",
              "3          NaN           7.77 Lakh  26,696 kms    Petrol    Automatic   \n",
              "4          NaN           5.15 Lakh  69,414 kms    Petrol       Manual   \n",
              "...        ...                 ...         ...       ...          ...   \n",
              "5507       NaN          28.90 Lakh  45,000 kms    Diesel    Automatic   \n",
              "5508       NaN          64.90 Lakh  29,000 kms    Petrol    Automatic   \n",
              "5509       NaN          13.75 Lakh  90,000 kms    Diesel    Automatic   \n",
              "5510       NaN          29.90 Lakh  79,000 kms    Diesel    Automatic   \n",
              "5511       NaN          31.90 Lakh  42,000 kms    Diesel    Automatic   \n",
              "\n",
              "      ownership  manufacture   engine    Seats  \n",
              "0     1st Owner         2017  1956 cc  5 Seats  \n",
              "1     1st Owner         2021  1330 cc  5 Seats  \n",
              "2     1st Owner         2016  2494 cc  5 Seats  \n",
              "3     1st Owner         2018  1199 cc  5 Seats  \n",
              "4     1st Owner         2016  1199 cc  5 Seats  \n",
              "...         ...          ...      ...      ...  \n",
              "5507  1st Owner         2018  2995 cc  7 Seats  \n",
              "5508  2nd Owner         2015  1968 cc  5 Seats  \n",
              "5509  2nd Owner         2013  2755 cc  5 Seats  \n",
              "5510  3rd Owner         2015  2967 cc  6 Seats  \n",
              "5511  2nd Owner         2017  1991 cc  5 Seats  \n",
              "\n",
              "[5512 rows x 16 columns]"
            ],
            "text/html": [
              "\n",
              "  <div id=\"df-ca1c1386-c374-4594-9ec1-7fdface97e59\">\n",
              "    <div class=\"colab-df-container\">\n",
              "      <div>\n",
              "<style scoped>\n",
              "    .dataframe tbody tr th:only-of-type {\n",
              "        vertical-align: middle;\n",
              "    }\n",
              "\n",
              "    .dataframe tbody tr th {\n",
              "        vertical-align: top;\n",
              "    }\n",
              "\n",
              "    .dataframe thead th {\n",
              "        text-align: right;\n",
              "    }\n",
              "</style>\n",
              "<table border=\"1\" class=\"dataframe\">\n",
              "  <thead>\n",
              "    <tr style=\"text-align: right;\">\n",
              "      <th></th>\n",
              "      <th>Unnamed: 0</th>\n",
              "      <th>car_company</th>\n",
              "      <th>car_name</th>\n",
              "      <th>varient</th>\n",
              "      <th>vaient1</th>\n",
              "      <th>varient2</th>\n",
              "      <th>govt_std</th>\n",
              "      <th>govt_std2</th>\n",
              "      <th>car_prices_in_rupee</th>\n",
              "      <th>kms_driven</th>\n",
              "      <th>fuel_type</th>\n",
              "      <th>transmission</th>\n",
              "      <th>ownership</th>\n",
              "      <th>manufacture</th>\n",
              "      <th>engine</th>\n",
              "      <th>Seats</th>\n",
              "    </tr>\n",
              "  </thead>\n",
              "  <tbody>\n",
              "    <tr>\n",
              "      <th>0</th>\n",
              "      <td>0</td>\n",
              "      <td>Jeep</td>\n",
              "      <td>Compass</td>\n",
              "      <td>2</td>\n",
              "      <td>Longitude</td>\n",
              "      <td>Option</td>\n",
              "      <td>BSIV</td>\n",
              "      <td>NaN</td>\n",
              "      <td>10.03 Lakh</td>\n",
              "      <td>86,226 kms</td>\n",
              "      <td>Diesel</td>\n",
              "      <td>Manual</td>\n",
              "      <td>1st Owner</td>\n",
              "      <td>2017</td>\n",
              "      <td>1956 cc</td>\n",
              "      <td>5 Seats</td>\n",
              "    </tr>\n",
              "    <tr>\n",
              "      <th>1</th>\n",
              "      <td>1</td>\n",
              "      <td>Renault</td>\n",
              "      <td>Duster</td>\n",
              "      <td>RXZ</td>\n",
              "      <td>Turbo</td>\n",
              "      <td>CVT</td>\n",
              "      <td>NaN</td>\n",
              "      <td>NaN</td>\n",
              "      <td>12.83 Lakh</td>\n",
              "      <td>13,248 kms</td>\n",
              "      <td>Petrol</td>\n",
              "      <td>Automatic</td>\n",
              "      <td>1st Owner</td>\n",
              "      <td>2021</td>\n",
              "      <td>1330 cc</td>\n",
              "      <td>5 Seats</td>\n",
              "    </tr>\n",
              "    <tr>\n",
              "      <th>2</th>\n",
              "      <td>2</td>\n",
              "      <td>Toyota</td>\n",
              "      <td>Camry</td>\n",
              "      <td>2.5</td>\n",
              "      <td>G</td>\n",
              "      <td>NaN</td>\n",
              "      <td>NaN</td>\n",
              "      <td>NaN</td>\n",
              "      <td>16.40 Lakh</td>\n",
              "      <td>60,343 kms</td>\n",
              "      <td>Petrol</td>\n",
              "      <td>Automatic</td>\n",
              "      <td>1st Owner</td>\n",
              "      <td>2016</td>\n",
              "      <td>2494 cc</td>\n",
              "      <td>5 Seats</td>\n",
              "    </tr>\n",
              "    <tr>\n",
              "      <th>3</th>\n",
              "      <td>3</td>\n",
              "      <td>Honda</td>\n",
              "      <td>Jazz</td>\n",
              "      <td>VX</td>\n",
              "      <td>CVT</td>\n",
              "      <td>NaN</td>\n",
              "      <td>NaN</td>\n",
              "      <td>NaN</td>\n",
              "      <td>7.77 Lakh</td>\n",
              "      <td>26,696 kms</td>\n",
              "      <td>Petrol</td>\n",
              "      <td>Automatic</td>\n",
              "      <td>1st Owner</td>\n",
              "      <td>2018</td>\n",
              "      <td>1199 cc</td>\n",
              "      <td>5 Seats</td>\n",
              "    </tr>\n",
              "    <tr>\n",
              "      <th>4</th>\n",
              "      <td>4</td>\n",
              "      <td>Volkswagen</td>\n",
              "      <td>Polo</td>\n",
              "      <td>1.2</td>\n",
              "      <td>MPI</td>\n",
              "      <td>Highline</td>\n",
              "      <td>NaN</td>\n",
              "      <td>NaN</td>\n",
              "      <td>5.15 Lakh</td>\n",
              "      <td>69,414 kms</td>\n",
              "      <td>Petrol</td>\n",
              "      <td>Manual</td>\n",
              "      <td>1st Owner</td>\n",
              "      <td>2016</td>\n",
              "      <td>1199 cc</td>\n",
              "      <td>5 Seats</td>\n",
              "    </tr>\n",
              "    <tr>\n",
              "      <th>...</th>\n",
              "      <td>...</td>\n",
              "      <td>...</td>\n",
              "      <td>...</td>\n",
              "      <td>...</td>\n",
              "      <td>...</td>\n",
              "      <td>...</td>\n",
              "      <td>...</td>\n",
              "      <td>...</td>\n",
              "      <td>...</td>\n",
              "      <td>...</td>\n",
              "      <td>...</td>\n",
              "      <td>...</td>\n",
              "      <td>...</td>\n",
              "      <td>...</td>\n",
              "      <td>...</td>\n",
              "      <td>...</td>\n",
              "    </tr>\n",
              "    <tr>\n",
              "      <th>5507</th>\n",
              "      <td>5507</td>\n",
              "      <td>BMW</td>\n",
              "      <td>X1</td>\n",
              "      <td>sDrive</td>\n",
              "      <td>20d</td>\n",
              "      <td>xLine</td>\n",
              "      <td>NaN</td>\n",
              "      <td>NaN</td>\n",
              "      <td>28.90 Lakh</td>\n",
              "      <td>45,000 kms</td>\n",
              "      <td>Diesel</td>\n",
              "      <td>Automatic</td>\n",
              "      <td>1st Owner</td>\n",
              "      <td>2018</td>\n",
              "      <td>2995 cc</td>\n",
              "      <td>7 Seats</td>\n",
              "    </tr>\n",
              "    <tr>\n",
              "      <th>5508</th>\n",
              "      <td>5508</td>\n",
              "      <td>BMW</td>\n",
              "      <td>M</td>\n",
              "      <td>Series</td>\n",
              "      <td>M4</td>\n",
              "      <td>Coupe</td>\n",
              "      <td>NaN</td>\n",
              "      <td>NaN</td>\n",
              "      <td>64.90 Lakh</td>\n",
              "      <td>29,000 kms</td>\n",
              "      <td>Petrol</td>\n",
              "      <td>Automatic</td>\n",
              "      <td>2nd Owner</td>\n",
              "      <td>2015</td>\n",
              "      <td>1968 cc</td>\n",
              "      <td>5 Seats</td>\n",
              "    </tr>\n",
              "    <tr>\n",
              "      <th>5509</th>\n",
              "      <td>5509</td>\n",
              "      <td>Jaguar</td>\n",
              "      <td>XF</td>\n",
              "      <td>2.2</td>\n",
              "      <td>Litre</td>\n",
              "      <td>Luxury</td>\n",
              "      <td>NaN</td>\n",
              "      <td>NaN</td>\n",
              "      <td>13.75 Lakh</td>\n",
              "      <td>90,000 kms</td>\n",
              "      <td>Diesel</td>\n",
              "      <td>Automatic</td>\n",
              "      <td>2nd Owner</td>\n",
              "      <td>2013</td>\n",
              "      <td>2755 cc</td>\n",
              "      <td>5 Seats</td>\n",
              "    </tr>\n",
              "    <tr>\n",
              "      <th>5510</th>\n",
              "      <td>5510</td>\n",
              "      <td>BMW</td>\n",
              "      <td>7</td>\n",
              "      <td>Series</td>\n",
              "      <td>730Ld</td>\n",
              "      <td>NaN</td>\n",
              "      <td>NaN</td>\n",
              "      <td>NaN</td>\n",
              "      <td>29.90 Lakh</td>\n",
              "      <td>79,000 kms</td>\n",
              "      <td>Diesel</td>\n",
              "      <td>Automatic</td>\n",
              "      <td>3rd Owner</td>\n",
              "      <td>2015</td>\n",
              "      <td>2967 cc</td>\n",
              "      <td>6 Seats</td>\n",
              "    </tr>\n",
              "    <tr>\n",
              "      <th>5511</th>\n",
              "      <td>5511</td>\n",
              "      <td>BMW</td>\n",
              "      <td>5</td>\n",
              "      <td>Series</td>\n",
              "      <td>520d</td>\n",
              "      <td>M</td>\n",
              "      <td>Sport</td>\n",
              "      <td>NaN</td>\n",
              "      <td>31.90 Lakh</td>\n",
              "      <td>42,000 kms</td>\n",
              "      <td>Diesel</td>\n",
              "      <td>Automatic</td>\n",
              "      <td>2nd Owner</td>\n",
              "      <td>2017</td>\n",
              "      <td>1991 cc</td>\n",
              "      <td>5 Seats</td>\n",
              "    </tr>\n",
              "  </tbody>\n",
              "</table>\n",
              "<p>5512 rows × 16 columns</p>\n",
              "</div>\n",
              "      <button class=\"colab-df-convert\" onclick=\"convertToInteractive('df-ca1c1386-c374-4594-9ec1-7fdface97e59')\"\n",
              "              title=\"Convert this dataframe to an interactive table.\"\n",
              "              style=\"display:none;\">\n",
              "        \n",
              "  <svg xmlns=\"http://www.w3.org/2000/svg\" height=\"24px\"viewBox=\"0 0 24 24\"\n",
              "       width=\"24px\">\n",
              "    <path d=\"M0 0h24v24H0V0z\" fill=\"none\"/>\n",
              "    <path d=\"M18.56 5.44l.94 2.06.94-2.06 2.06-.94-2.06-.94-.94-2.06-.94 2.06-2.06.94zm-11 1L8.5 8.5l.94-2.06 2.06-.94-2.06-.94L8.5 2.5l-.94 2.06-2.06.94zm10 10l.94 2.06.94-2.06 2.06-.94-2.06-.94-.94-2.06-.94 2.06-2.06.94z\"/><path d=\"M17.41 7.96l-1.37-1.37c-.4-.4-.92-.59-1.43-.59-.52 0-1.04.2-1.43.59L10.3 9.45l-7.72 7.72c-.78.78-.78 2.05 0 2.83L4 21.41c.39.39.9.59 1.41.59.51 0 1.02-.2 1.41-.59l7.78-7.78 2.81-2.81c.8-.78.8-2.07 0-2.86zM5.41 20L4 18.59l7.72-7.72 1.47 1.35L5.41 20z\"/>\n",
              "  </svg>\n",
              "      </button>\n",
              "      \n",
              "  <style>\n",
              "    .colab-df-container {\n",
              "      display:flex;\n",
              "      flex-wrap:wrap;\n",
              "      gap: 12px;\n",
              "    }\n",
              "\n",
              "    .colab-df-convert {\n",
              "      background-color: #E8F0FE;\n",
              "      border: none;\n",
              "      border-radius: 50%;\n",
              "      cursor: pointer;\n",
              "      display: none;\n",
              "      fill: #1967D2;\n",
              "      height: 32px;\n",
              "      padding: 0 0 0 0;\n",
              "      width: 32px;\n",
              "    }\n",
              "\n",
              "    .colab-df-convert:hover {\n",
              "      background-color: #E2EBFA;\n",
              "      box-shadow: 0px 1px 2px rgba(60, 64, 67, 0.3), 0px 1px 3px 1px rgba(60, 64, 67, 0.15);\n",
              "      fill: #174EA6;\n",
              "    }\n",
              "\n",
              "    [theme=dark] .colab-df-convert {\n",
              "      background-color: #3B4455;\n",
              "      fill: #D2E3FC;\n",
              "    }\n",
              "\n",
              "    [theme=dark] .colab-df-convert:hover {\n",
              "      background-color: #434B5C;\n",
              "      box-shadow: 0px 1px 3px 1px rgba(0, 0, 0, 0.15);\n",
              "      filter: drop-shadow(0px 1px 2px rgba(0, 0, 0, 0.3));\n",
              "      fill: #FFFFFF;\n",
              "    }\n",
              "  </style>\n",
              "\n",
              "      <script>\n",
              "        const buttonEl =\n",
              "          document.querySelector('#df-ca1c1386-c374-4594-9ec1-7fdface97e59 button.colab-df-convert');\n",
              "        buttonEl.style.display =\n",
              "          google.colab.kernel.accessAllowed ? 'block' : 'none';\n",
              "\n",
              "        async function convertToInteractive(key) {\n",
              "          const element = document.querySelector('#df-ca1c1386-c374-4594-9ec1-7fdface97e59');\n",
              "          const dataTable =\n",
              "            await google.colab.kernel.invokeFunction('convertToInteractive',\n",
              "                                                     [key], {});\n",
              "          if (!dataTable) return;\n",
              "\n",
              "          const docLinkHtml = 'Like what you see? Visit the ' +\n",
              "            '<a target=\"_blank\" href=https://colab.research.google.com/notebooks/data_table.ipynb>data table notebook</a>'\n",
              "            + ' to learn more about interactive tables.';\n",
              "          element.innerHTML = '';\n",
              "          dataTable['output_type'] = 'display_data';\n",
              "          await google.colab.output.renderOutput(dataTable, element);\n",
              "          const docLink = document.createElement('div');\n",
              "          docLink.innerHTML = docLinkHtml;\n",
              "          element.appendChild(docLink);\n",
              "        }\n",
              "      </script>\n",
              "    </div>\n",
              "  </div>\n",
              "  "
            ]
          },
          "metadata": {},
          "execution_count": 3
        }
      ]
    },
    {
      "cell_type": "markdown",
      "source": [
        "**CAR BRAND AND COUNTS WAITING FOR RESALE**"
      ],
      "metadata": {
        "id": "sKQUYPhuKMdY"
      }
    },
    {
      "cell_type": "code",
      "source": [
        "df[\"car_company\"].value_counts()"
      ],
      "metadata": {
        "colab": {
          "base_uri": "https://localhost:8080/"
        },
        "id": "o-fSdRlq36sr",
        "outputId": "1515b73b-8833-4081-ddc6-7740eba205ff"
      },
      "execution_count": 4,
      "outputs": [
        {
          "output_type": "execute_result",
          "data": {
            "text/plain": [
              "Maruti           1389\n",
              "Hyundai          1023\n",
              "Honda             498\n",
              "Mahindra          315\n",
              "Mercedes-Benz     283\n",
              "Tata              269\n",
              "Toyota            263\n",
              "BMW               172\n",
              "Renault           170\n",
              "Ford              168\n",
              "Audi              166\n",
              "Volkswagen        159\n",
              "Skoda             113\n",
              "Chevrolet          82\n",
              "Nissan             63\n",
              "MG                 62\n",
              "Kia                61\n",
              "Land               50\n",
              "Jeep               49\n",
              "Volvo              31\n",
              "Jaguar             30\n",
              "Datsun             25\n",
              "Fiat               17\n",
              "Mini               14\n",
              "Porsche            10\n",
              "Lexus              10\n",
              "Mitsubishi          8\n",
              "Maserati            5\n",
              "Isuzu               4\n",
              "Force               1\n",
              "Premier             1\n",
              "Bentley             1\n",
              "Name: car_company, dtype: int64"
            ]
          },
          "metadata": {},
          "execution_count": 4
        }
      ]
    },
    {
      "cell_type": "markdown",
      "source": [
        "**car name and its counts**"
      ],
      "metadata": {
        "id": "jnkJz0DDLne2"
      }
    },
    {
      "cell_type": "code",
      "source": [
        "df[\"car_name\"].value_counts()"
      ],
      "metadata": {
        "colab": {
          "base_uri": "https://localhost:8080/"
        },
        "id": "4AEkSLm_8jas",
        "outputId": "01096925-a026-4187-a517-017125b57eea"
      },
      "execution_count": 5,
      "outputs": [
        {
          "output_type": "execute_result",
          "data": {
            "text/plain": [
              "Swift        388\n",
              "i20          237\n",
              "City         221\n",
              "Wagon        206\n",
              "Alto         192\n",
              "            ... \n",
              "Outlander      1\n",
              "Fusion         1\n",
              "Supro          1\n",
              "Aria           1\n",
              "M              1\n",
              "Name: car_name, Length: 230, dtype: int64"
            ]
          },
          "metadata": {},
          "execution_count": 5
        }
      ]
    },
    {
      "cell_type": "markdown",
      "source": [
        "**FUELTYPE AND ITS COUNT**"
      ],
      "metadata": {
        "id": "4goARyqPLvCt"
      }
    },
    {
      "cell_type": "code",
      "source": [
        "df[\"fuel_type\"].value_counts()"
      ],
      "metadata": {
        "colab": {
          "base_uri": "https://localhost:8080/"
        },
        "id": "E32-lsMv_L9g",
        "outputId": "38fe7ee5-2542-49c7-b607-88f5eee727ed"
      },
      "execution_count": 7,
      "outputs": [
        {
          "output_type": "execute_result",
          "data": {
            "text/plain": [
              "Petrol      2967\n",
              "Diesel      2423\n",
              "Cng           80\n",
              "Lpg           28\n",
              "Electric      14\n",
              "Name: fuel_type, dtype: int64"
            ]
          },
          "metadata": {},
          "execution_count": 7
        }
      ]
    },
    {
      "cell_type": "markdown",
      "source": [
        "**SEATS AND ITS COUNTS**"
      ],
      "metadata": {
        "id": "2bY3sCwGL8Hx"
      }
    },
    {
      "cell_type": "code",
      "source": [
        "df[\"Seats\"].value_counts()"
      ],
      "metadata": {
        "colab": {
          "base_uri": "https://localhost:8080/"
        },
        "id": "GzFL8key_dTB",
        "outputId": "8e29a53a-476f-47bb-921a-1128c6431eae"
      },
      "execution_count": 9,
      "outputs": [
        {
          "output_type": "execute_result",
          "data": {
            "text/plain": [
              "5 Seats    4673\n",
              "7 Seats     631\n",
              "4 Seats      88\n",
              "6 Seats      61\n",
              "8 Seats      54\n",
              "2 Seats       5\n",
              "Name: Seats, dtype: int64"
            ]
          },
          "metadata": {},
          "execution_count": 9
        }
      ]
    },
    {
      "cell_type": "code",
      "source": [
        "df1=pd.read_excel(\"/content/car2nd_kms.xlsx\")"
      ],
      "metadata": {
        "id": "oQALAWR4BGPS"
      },
      "execution_count": 18,
      "outputs": []
    },
    {
      "cell_type": "code",
      "source": [
        "car_under50k=df1[((df1[\"car_name\"] == \"Alto\") | (df1[\"car_name\"] == \"Swift\") | (df1[\"car_name\"] == \"i20\") | (df1[\"car_name\"] == \"City\") | (df1[\"car_name\"] == \"Wagon\")) & (df1[\"ownership\"] == \"1st Owner\") & (df1[\"kms_driven\"]<50000)]"
      ],
      "metadata": {
        "id": "mzS6KYScFaC3"
      },
      "execution_count": 31,
      "outputs": []
    },
    {
      "cell_type": "markdown",
      "source": [
        "**CARS DRIVEN LESS THAN 50,000KMS AND OWNERSHIP STATUS:1ST OWNER (ONLY ALTO,SWIFT,I20,CITY,WAGONR)**"
      ],
      "metadata": {
        "id": "29FWpIkwMDzs"
      }
    },
    {
      "cell_type": "code",
      "source": [
        "car_under50k[\"car_name\"].value_counts()"
      ],
      "metadata": {
        "colab": {
          "base_uri": "https://localhost:8080/"
        },
        "id": "bz39u0wtJfcf",
        "outputId": "b6472c95-54ac-4f5b-93db-ad79b9d9a4a9"
      },
      "execution_count": 32,
      "outputs": [
        {
          "output_type": "execute_result",
          "data": {
            "text/plain": [
              "Swift    93\n",
              "i20      75\n",
              "Alto     71\n",
              "City     54\n",
              "Wagon    47\n",
              "Name: car_name, dtype: int64"
            ]
          },
          "metadata": {},
          "execution_count": 32
        }
      ]
    }
  ]
}